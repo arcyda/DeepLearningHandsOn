{
  "nbformat": 4,
  "nbformat_minor": 0,
  "metadata": {
    "colab": {
      "name": "vector_basic_operation.ipynb",
      "provenance": [],
      "authorship_tag": "ABX9TyO6NplTE3c6tHkQF24myliw",
      "include_colab_link": true
    },
    "kernelspec": {
      "name": "python3",
      "display_name": "Python 3"
    },
    "language_info": {
      "name": "python"
    }
  },
  "cells": [
    {
      "cell_type": "markdown",
      "metadata": {
        "id": "view-in-github",
        "colab_type": "text"
      },
      "source": [
        "<a href=\"https://colab.research.google.com/github/arcyda/DeepLearningHandsOn/blob/main/vector_basic_operation.ipynb\" target=\"_parent\"><img src=\"https://colab.research.google.com/assets/colab-badge.svg\" alt=\"Open In Colab\"/></a>"
      ]
    },
    {
      "cell_type": "markdown",
      "source": [
        "generate 1-d array\n",
        "\n",
        "reshape(): 改变张量的形状，但是不改变元素的数量和元素值"
      ],
      "metadata": {
        "id": "m8g8v9TZ9xV5"
      }
    },
    {
      "cell_type": "code",
      "source": [
        "x.reshape(3,4)"
      ],
      "metadata": {
        "id": "zYm11fOG9-Gt",
        "outputId": "fbaf1713-083b-400f-9161-b5709fcfe73c",
        "colab": {
          "base_uri": "https://localhost:8080/"
        }
      },
      "execution_count": null,
      "outputs": [
        {
          "output_type": "execute_result",
          "data": {
            "text/plain": [
              "tensor([[ 0,  1,  2,  3],\n",
              "        [ 4,  5,  6,  7],\n",
              "        [ 8,  9, 10, 11]])"
            ]
          },
          "metadata": {},
          "execution_count": 3
        }
      ]
    },
    {
      "cell_type": "markdown",
      "source": [
        "生成全0\n",
        "\n",
        "生成全1"
      ],
      "metadata": {
        "id": "CssjiTMj8lTT"
      }
    },
    {
      "cell_type": "code",
      "source": [
        "torch.zeros(2,3,4)"
      ],
      "metadata": {
        "id": "UDBEtSfo8pGm",
        "outputId": "cb61e7e1-3e01-4e66-c671-6c4da55fddc6",
        "colab": {
          "base_uri": "https://localhost:8080/"
        }
      },
      "execution_count": null,
      "outputs": [
        {
          "output_type": "execute_result",
          "data": {
            "text/plain": [
              "tensor([[[1., 1., 1., 1.],\n",
              "         [1., 1., 1., 1.],\n",
              "         [1., 1., 1., 1.]],\n",
              "\n",
              "        [[1., 1., 1., 1.],\n",
              "         [1., 1., 1., 1.],\n",
              "         [1., 1., 1., 1.]]])"
            ]
          },
          "metadata": {},
          "execution_count": 5
        }
      ]
    },
    {
      "cell_type": "code",
      "source": [
        "torch.ones(2,3,4)"
      ],
      "metadata": {
        "id": "jLXcL6BX8_ls",
        "outputId": "6c04c750-ea1c-4229-fdef-c507e8230472",
        "colab": {
          "base_uri": "https://localhost:8080/"
        }
      },
      "execution_count": null,
      "outputs": [
        {
          "output_type": "execute_result",
          "data": {
            "text/plain": [
              "tensor([[[1., 1., 1., 1.],\n",
              "         [1., 1., 1., 1.],\n",
              "         [1., 1., 1., 1.]],\n",
              "\n",
              "        [[1., 1., 1., 1.],\n",
              "         [1., 1., 1., 1.],\n",
              "         [1., 1., 1., 1.]]])"
            ]
          },
          "metadata": {},
          "execution_count": 6
        }
      ]
    },
    {
      "cell_type": "markdown",
      "source": [
        "创建数组\n",
        "\n",
        "进行+ - * /，每个位置的元素进行加减乘除"
      ],
      "metadata": {
        "id": "6pKIQ0Ig9crc"
      }
    },
    {
      "cell_type": "code",
      "source": [
        "x = torch.tensor([1.0, 2, 4, 8]) # 因为1.0，所以创建的为浮点数组\n",
        "y = torch.tensor([2, 2, 2, 2]) #创建整型数组\n",
        "x + y, x - y, x * y, x / y, x ** y  # **是求幂运算"
      ],
      "metadata": {
        "id": "q1xZ8JKY9jKx",
        "outputId": "4cd57dec-73d4-491b-882f-a030a815cdbf",
        "colab": {
          "base_uri": "https://localhost:8080/"
        }
      },
      "execution_count": null,
      "outputs": [
        {
          "output_type": "execute_result",
          "data": {
            "text/plain": [
              "(tensor([ 3.,  4.,  6., 10.]),\n",
              " tensor([-1.,  0.,  2.,  6.]),\n",
              " tensor([ 2.,  4.,  8., 16.]),\n",
              " tensor([0.5000, 1.0000, 2.0000, 4.0000]),\n",
              " tensor([ 1.,  4., 16., 64.]))"
            ]
          },
          "metadata": {},
          "execution_count": 8
        }
      ]
    },
    {
      "cell_type": "markdown",
      "source": [
        "torch.cat(rec1, rec2, dim)把多个张量/矩阵连在一起"
      ],
      "metadata": {
        "id": "48lL7s8M-0Eq"
      }
    },
    {
      "cell_type": "code",
      "source": [
        "X = torch.arange(12).reshape(3,4)\n",
        "Y = torch.tensor([[1, 1, 1, 1], [2, 2, 2, 2], [3, 3, 3, 3]])\n",
        "torch.cat((X, Y), dim=0), torch.cat((X, Y), dim=1) # dim = 0,对于结果来说，增加行数； dim = 1; 增加列数"
      ],
      "metadata": {
        "id": "lQ6npx_v-kvU",
        "outputId": "449f807b-b163-49cb-e98b-11111751c858",
        "colab": {
          "base_uri": "https://localhost:8080/"
        }
      },
      "execution_count": null,
      "outputs": [
        {
          "output_type": "execute_result",
          "data": {
            "text/plain": [
              "(tensor([[ 0,  1,  2,  3],\n",
              "         [ 4,  5,  6,  7],\n",
              "         [ 8,  9, 10, 11],\n",
              "         [ 1,  1,  1,  1],\n",
              "         [ 2,  2,  2,  2],\n",
              "         [ 3,  3,  3,  3]]), tensor([[ 0,  1,  2,  3,  1,  1,  1,  1],\n",
              "         [ 4,  5,  6,  7,  2,  2,  2,  2],\n",
              "         [ 8,  9, 10, 11,  3,  3,  3,  3]]))"
            ]
          },
          "metadata": {},
          "execution_count": 18
        }
      ]
    },
    {
      "cell_type": "markdown",
      "source": [
        "通过逻辑运算符构建二维张量"
      ],
      "metadata": {
        "id": "mMyOEKMLALon"
      }
    },
    {
      "cell_type": "code",
      "source": [
        "X == Y"
      ],
      "metadata": {
        "id": "at1ZlyOsARVs",
        "outputId": "f9393f1a-e6a3-4fca-cc63-d3771183cd9c",
        "colab": {
          "base_uri": "https://localhost:8080/"
        }
      },
      "execution_count": null,
      "outputs": [
        {
          "output_type": "execute_result",
          "data": {
            "text/plain": [
              "tensor([[False,  True, False, False],\n",
              "        [False, False, False, False],\n",
              "        [False, False, False, False]])"
            ]
          },
          "metadata": {},
          "execution_count": 19
        }
      ]
    },
    {
      "cell_type": "code",
      "execution_count": null,
      "metadata": {
        "colab": {
          "base_uri": "https://localhost:8080/"
        },
        "id": "rr3VY1W89juW",
        "outputId": "ebf8a93d-fa4e-4ff1-9103-082c4bb2f389"
      },
      "outputs": [
        {
          "output_type": "stream",
          "name": "stdout",
          "text": [
            "tensor([ 0,  1,  2,  3,  4,  5,  6,  7,  8,  9, 10, 11])\n"
          ]
        }
      ],
      "source": [
        "import torch\n",
        "x = torch.arange(12)\n",
        "print(x)"
      ]
    },
    {
      "cell_type": "markdown",
      "source": [
        "矩阵的运算:单个矩阵求和，得到一个数值"
      ],
      "metadata": {
        "id": "Yx0TOkppAZoK"
      }
    },
    {
      "cell_type": "code",
      "source": [
        "X.sum()"
      ],
      "metadata": {
        "id": "hAkHJ3F7BHie",
        "outputId": "c26f1ebe-8c7a-4450-83f9-57bbdd313ff7",
        "colab": {
          "base_uri": "https://localhost:8080/"
        }
      },
      "execution_count": null,
      "outputs": [
        {
          "output_type": "execute_result",
          "data": {
            "text/plain": [
              "tensor(66)"
            ]
          },
          "metadata": {},
          "execution_count": 20
        }
      ]
    },
    {
      "cell_type": "markdown",
      "source": [
        "注意广播机制：假设A:1*3矩阵, B: 3*2矩阵，但可以执行A+B，得到的结果3 * 3矩阵，A，B会被扩张，扩张位置补零"
      ],
      "metadata": {
        "id": "zVVfki6jBKcp"
      }
    },
    {
      "cell_type": "markdown",
      "source": [
        "元素访问，元素修改：根据下表\n",
        "\n",
        "-1  最后一个位置\n",
        "\n",
        "1:3 前闭后开"
      ],
      "metadata": {
        "id": "2GtDd5EuBwKt"
      }
    },
    {
      "cell_type": "code",
      "source": [
        "Y[-1], Y[1:3] #选择\"行\""
      ],
      "metadata": {
        "id": "WtE54XTQDYY6",
        "outputId": "eaaa7e32-78fa-4298-b274-adc632736628",
        "colab": {
          "base_uri": "https://localhost:8080/"
        }
      },
      "execution_count": null,
      "outputs": [
        {
          "output_type": "execute_result",
          "data": {
            "text/plain": [
              "(tensor([3, 3, 3, 3]), tensor([[2, 2, 2, 2],\n",
              "         [3, 3, 3, 3]]))"
            ]
          },
          "metadata": {},
          "execution_count": 23
        }
      ]
    },
    {
      "cell_type": "code",
      "source": [
        "Y[:, -1] #选择\"列\""
      ],
      "metadata": {
        "id": "kc0j1VGQDp1P",
        "outputId": "2a5287d3-d0e9-4765-b7f5-d4eaedcb5c5d",
        "colab": {
          "base_uri": "https://localhost:8080/"
        }
      },
      "execution_count": null,
      "outputs": [
        {
          "output_type": "execute_result",
          "data": {
            "text/plain": [
              "tensor([1, 2, 3])"
            ]
          },
          "metadata": {},
          "execution_count": 26
        }
      ]
    },
    {
      "cell_type": "code",
      "source": [
        "Y[2, 2] = 9\n",
        "Y"
      ],
      "metadata": {
        "id": "3RIL8E2JERrR",
        "outputId": "ad6f753b-4567-4dc7-a4f7-86397ce88863",
        "colab": {
          "base_uri": "https://localhost:8080/"
        }
      },
      "execution_count": null,
      "outputs": [
        {
          "output_type": "execute_result",
          "data": {
            "text/plain": [
              "tensor([[1, 1, 1, 1],\n",
              "        [2, 2, 2, 2],\n",
              "        [3, 3, 9, 3]])"
            ]
          },
          "metadata": {},
          "execution_count": 28
        }
      ]
    },
    {
      "cell_type": "markdown",
      "source": [
        "矩阵运算时，减小内存操作的方法\n",
        "\n",
        "如果 X = X + Y, 会给X重新分配内存\n",
        "\n",
        "如果 X += Y 或者 X[:] = X + Y,则不重新分配内存"
      ],
      "metadata": {
        "id": "E26l-NUUEsxT"
      }
    },
    {
      "cell_type": "markdown",
      "source": [
        "torch张量 转变为 NumPy张量"
      ],
      "metadata": {
        "id": "zviDXzmuF1Kv"
      }
    },
    {
      "cell_type": "code",
      "source": [
        "A = Y.numpy()\n",
        "B = torch.tensor(A)\n",
        "print(A)\n",
        "type(A), type(B)"
      ],
      "metadata": {
        "id": "i_uEwrEHF7ZL",
        "outputId": "dffdbdf9-557b-427a-aaed-910c71e08bc1",
        "colab": {
          "base_uri": "https://localhost:8080/"
        }
      },
      "execution_count": null,
      "outputs": [
        {
          "output_type": "stream",
          "name": "stdout",
          "text": [
            "[[1 1 1 1]\n",
            " [2 2 2 2]\n",
            " [3 3 9 3]]\n"
          ]
        },
        {
          "output_type": "execute_result",
          "data": {
            "text/plain": [
              "(numpy.ndarray, torch.Tensor)"
            ]
          },
          "metadata": {},
          "execution_count": 35
        }
      ]
    },
    {
      "cell_type": "markdown",
      "source": [
        "将1*1的张量转化为标量 item()"
      ],
      "metadata": {
        "id": "l6QEko-KGQaw"
      }
    },
    {
      "cell_type": "code",
      "source": [
        "a = torch.tensor(3.5)\n",
        "b = a.item()\n",
        "b, type(b), a, type(a)"
      ],
      "metadata": {
        "id": "0U_BCV4kGZx7",
        "outputId": "64855271-2553-4149-f176-a26d74e2df25",
        "colab": {
          "base_uri": "https://localhost:8080/"
        }
      },
      "execution_count": null,
      "outputs": [
        {
          "output_type": "execute_result",
          "data": {
            "text/plain": [
              "(3.5, float, tensor(3.5000), torch.Tensor)"
            ]
          },
          "metadata": {},
          "execution_count": 39
        }
      ]
    }
  ]
}