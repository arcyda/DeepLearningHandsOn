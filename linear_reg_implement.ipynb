{
  "nbformat": 4,
  "nbformat_minor": 0,
  "metadata": {
    "colab": {
      "name": "linear_reg_implement.ipynb",
      "provenance": [],
      "authorship_tag": "ABX9TyM0ftr3E1fXRutCnE4NGv86",
      "include_colab_link": true
    },
    "kernelspec": {
      "name": "python3",
      "display_name": "Python 3"
    },
    "language_info": {
      "name": "python"
    }
  },
  "cells": [
    {
      "cell_type": "markdown",
      "metadata": {
        "id": "view-in-github",
        "colab_type": "text"
      },
      "source": [
        "<a href=\"https://colab.research.google.com/github/arcyda/DeepLearningHandsOn/blob/main/linear_reg_implement.ipynb\" target=\"_parent\"><img src=\"https://colab.research.google.com/assets/colab-badge.svg\" alt=\"Open In Colab\"/></a>"
      ]
    },
    {
      "cell_type": "code",
      "execution_count": null,
      "metadata": {
        "id": "U9Ag__aX-qJg"
      },
      "outputs": [],
      "source": [
        "import random\n",
        "import torch\n",
        "\n"
      ]
    },
    {
      "cell_type": "code",
      "source": [
        "A = torch.ones((3,2))\n",
        "print(A)\n",
        "B = A.reshape((-1,1))\n",
        "print(B), B.shape"
      ],
      "metadata": {
        "colab": {
          "base_uri": "https://localhost:8080/"
        },
        "id": "cmRhnbBmIEeb",
        "outputId": "bcf2e524-e8d7-41eb-ce29-41309b90e832"
      },
      "execution_count": null,
      "outputs": [
        {
          "output_type": "stream",
          "name": "stdout",
          "text": [
            "tensor([[1., 1.],\n",
            "        [1., 1.],\n",
            "        [1., 1.]])\n",
            "tensor([[1.],\n",
            "        [1.],\n",
            "        [1.],\n",
            "        [1.],\n",
            "        [1.],\n",
            "        [1.]])\n"
          ]
        },
        {
          "output_type": "execute_result",
          "data": {
            "text/plain": [
              "(None, torch.Size([6, 1]))"
            ]
          },
          "metadata": {},
          "execution_count": 5
        }
      ]
    },
    {
      "cell_type": "markdown",
      "source": [
        "第一步: 生成数据集"
      ],
      "metadata": {
        "id": "gIAfAgc5hAVq"
      }
    },
    {
      "cell_type": "code",
      "source": [
        "def synthetic_data(w, b, num_examples):\n",
        "  X = torch.normal(0,1, (num_examples, len(w))) #normal() 生成平均值为0，方差为1的（m,n）m行n列矩阵\n",
        "  y = torch.matmul(X, w) + b #matmul() 两个矩阵相乘 X:1000X2, w:torch.Size([2])\n",
        "  y += torch.normal(0, 0.01, y.shape)\n",
        "  return X, y.reshape((-1, 1))\n",
        "\n",
        "true_w = torch.tensor([2, -3.4])\n",
        "true_b = 4.2\n",
        "features, labels = synthetic_data(true_w, true_b, 1000) #features每一行为一个样本，labels每一行为target的特征值\n"
      ],
      "metadata": {
        "id": "tFUaJpbGALfW"
      },
      "execution_count": 15,
      "outputs": []
    },
    {
      "cell_type": "code",
      "source": [
        "features.shape, labels.shape"
      ],
      "metadata": {
        "colab": {
          "base_uri": "https://localhost:8080/"
        },
        "id": "WUiWqSZnJ250",
        "outputId": "8d4714c1-5ef0-4dc7-fa9e-2f02b8e79ae8"
      },
      "execution_count": 16,
      "outputs": [
        {
          "output_type": "execute_result",
          "data": {
            "text/plain": [
              "(torch.Size([1000, 2]), torch.Size([1000, 1]))"
            ]
          },
          "metadata": {},
          "execution_count": 16
        }
      ]
    },
    {
      "cell_type": "code",
      "source": [
        "print('features:', features[0], '\\nlabel:', labels[0])"
      ],
      "metadata": {
        "colab": {
          "base_uri": "https://localhost:8080/"
        },
        "id": "c9QXBMtLK-3o",
        "outputId": "5a0cc8c0-cfa1-4457-93bb-3abac066db38"
      },
      "execution_count": 17,
      "outputs": [
        {
          "output_type": "stream",
          "name": "stdout",
          "text": [
            "features: tensor([-1.2294,  0.2575]) \n",
            "label: tensor([0.8736])\n"
          ]
        }
      ]
    },
    {
      "cell_type": "markdown",
      "source": [
        "第二步：读取数据集"
      ],
      "metadata": {
        "id": "D58d5sUyhE8N"
      }
    },
    {
      "cell_type": "code",
      "source": [
        "#抽取小批量样本\n",
        "def data_ite(batch_size, features, labels):\n",
        "  num_examples = len(features)\n",
        "  indices = list(range(num_examples)) #生成采样数组\n",
        "\n",
        "  random.shuffle(indices) #打乱数组\n",
        "\n",
        "  for i in range(0, num_examples, batch_size):\n",
        "    batch_indices = torch.tensor(indices[i : min(i + batch_size, num_examples)]) #选取num_examples行数据 \n",
        "    yield features[batch_indices], labels[batch_indices]\n"
      ],
      "metadata": {
        "id": "GiLV5HRhhHTd"
      },
      "execution_count": 18,
      "outputs": []
    },
    {
      "cell_type": "code",
      "source": [
        "batch_size = 10\n",
        "\n",
        "i = 0\n",
        "for X, y in data_ite(batch_size, features, labels): #遍历所有的小样本\n",
        "  print('X:\\n', X, '\\ny:\\n', y)\n",
        "  i = i + 1\n",
        "  if(i == 2): break"
      ],
      "metadata": {
        "colab": {
          "base_uri": "https://localhost:8080/"
        },
        "id": "yDEA-SzJni-M",
        "outputId": "6175f6b8-6bd1-414c-90ee-7c5880fa5c76"
      },
      "execution_count": 20,
      "outputs": [
        {
          "output_type": "stream",
          "name": "stdout",
          "text": [
            "X:\n",
            " tensor([[-0.0333,  0.9324],\n",
            "        [-0.8661, -0.1213],\n",
            "        [ 1.6917,  0.2248],\n",
            "        [-0.4201, -0.9824],\n",
            "        [-0.0216,  1.0184],\n",
            "        [-0.3059, -0.0933],\n",
            "        [-0.1948,  0.7328],\n",
            "        [-0.7983, -1.4287],\n",
            "        [-1.2101,  0.2056],\n",
            "        [-1.3501, -1.9026]]) \n",
            "y:\n",
            " tensor([[0.9516],\n",
            "        [2.8641],\n",
            "        [6.8380],\n",
            "        [6.7088],\n",
            "        [0.7022],\n",
            "        [3.8998],\n",
            "        [1.3418],\n",
            "        [7.4526],\n",
            "        [1.0823],\n",
            "        [7.9449]])\n",
            "X:\n",
            " tensor([[ 4.9553e-01, -6.9358e-01],\n",
            "        [ 2.1544e-03, -3.2921e-01],\n",
            "        [-1.9870e+00,  2.8895e-01],\n",
            "        [-1.3438e-01, -8.4445e-01],\n",
            "        [ 4.6911e-01, -6.7341e-01],\n",
            "        [-1.2465e+00, -1.2745e+00],\n",
            "        [-1.7047e+00, -1.0669e+00],\n",
            "        [ 1.5188e+00,  2.1600e+00],\n",
            "        [ 5.8397e-01, -1.9166e-01],\n",
            "        [ 5.9154e-01,  1.0904e+00]]) \n",
            "y:\n",
            " tensor([[ 7.5510],\n",
            "        [ 5.3159],\n",
            "        [-0.7672],\n",
            "        [ 6.8114],\n",
            "        [ 7.4231],\n",
            "        [ 6.0349],\n",
            "        [ 4.4410],\n",
            "        [-0.1103],\n",
            "        [ 6.0295],\n",
            "        [ 1.6732]])\n"
          ]
        }
      ]
    },
    {
      "cell_type": "code",
      "source": [
        "list(range(10))"
      ],
      "metadata": {
        "colab": {
          "base_uri": "https://localhost:8080/"
        },
        "id": "AMxgblOrhsQf",
        "outputId": "29eae599-9425-466d-9361-4c73506b613c"
      },
      "execution_count": null,
      "outputs": [
        {
          "output_type": "execute_result",
          "data": {
            "text/plain": [
              "[0, 1, 2, 3, 4, 5, 6, 7, 8, 9]"
            ]
          },
          "metadata": {},
          "execution_count": 2
        }
      ]
    },
    {
      "cell_type": "code",
      "source": [
        "grid = torch.tensor([[1,1], [2,2], [3,3]])\n",
        "l = list(range(5))\n",
        "b = torch.tensor(l[0:3])\n",
        "c = l[1:2]\n",
        "print(l)\n",
        "print(b)\n",
        "b.shape\n",
        "#print(grid[b])"
      ],
      "metadata": {
        "colab": {
          "base_uri": "https://localhost:8080/"
        },
        "id": "UEP-RKtvjG2K",
        "outputId": "085de5a8-1a42-4ee8-b96f-a9508da0babf"
      },
      "execution_count": 27,
      "outputs": [
        {
          "output_type": "stream",
          "name": "stdout",
          "text": [
            "[0, 1, 2, 3, 4]\n",
            "tensor([0, 1, 2])\n"
          ]
        },
        {
          "output_type": "execute_result",
          "data": {
            "text/plain": [
              "torch.Size([3])"
            ]
          },
          "metadata": {},
          "execution_count": 27
        }
      ]
    },
    {
      "cell_type": "markdown",
      "source": [
        "第三步：初始化模型参数"
      ],
      "metadata": {
        "id": "IcoergLMqy5C"
      }
    },
    {
      "cell_type": "code",
      "source": [
        "w = torch.normal(0, 0.01, size=(2,1), requires_grad=True)\n",
        "b = torch.zeros(1, requires_grad=True)"
      ],
      "metadata": {
        "id": "wTOjzt1Bq1gd"
      },
      "execution_count": null,
      "outputs": []
    },
    {
      "cell_type": "markdown",
      "source": [
        "我们的任务：更新参数w, b，直到这些参数足够拟合数据集\n",
        "\n",
        "注意：每次参数更新，都要计算损失函数关于模型参数的梯度。根据这个梯度值，可以让参数向减小损失的方向更新。如何计算梯度？使用自动微分"
      ],
      "metadata": {
        "id": "whV6L80drQ85"
      }
    },
    {
      "cell_type": "code",
      "source": [
        ""
      ],
      "metadata": {
        "id": "kjlRuPYlsD9c"
      },
      "execution_count": null,
      "outputs": []
    },
    {
      "cell_type": "markdown",
      "source": [
        "第四步：定义模型"
      ],
      "metadata": {
        "id": "rUwdYLXXs39x"
      }
    },
    {
      "cell_type": "code",
      "source": [
        "def linreg(X, w, b): #线性回归模型\n",
        "  return torch.matmul(X, w) + b"
      ],
      "metadata": {
        "id": "7NuThXqss7TL"
      },
      "execution_count": null,
      "outputs": []
    },
    {
      "cell_type": "markdown",
      "source": [
        "第五步：定义损失函数"
      ],
      "metadata": {
        "id": "zhnXapuxtS9M"
      }
    },
    {
      "cell_type": "code",
      "source": [
        "def squared_loss(y_hat, y): #差的平方\n",
        "  return (y_hat - y.reshape(y_hat.shape)) ** 2 / 2 #为什么这里要对y进行reshape??"
      ],
      "metadata": {
        "id": "arucKEYMtWDT"
      },
      "execution_count": null,
      "outputs": []
    },
    {
      "cell_type": "markdown",
      "source": [
        "第六步：定义优化算法"
      ],
      "metadata": {
        "id": "zDhtZqmxvfSD"
      }
    }
  ]
}